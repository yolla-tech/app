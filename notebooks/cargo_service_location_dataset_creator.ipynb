{
 "cells": [
  {
   "cell_type": "code",
   "execution_count": null,
   "metadata": {},
   "outputs": [],
   "source": [
    "cargo_services = [\n",
    "    \"PTT Kargo\",\n",
    "    \"UPS Kargo\",\n",
    "    \"Aras Kargo\",\n",
    "    \"MNG Kargo\",\n",
    "    \"Sürat Kargo\",\n",
    "    \"Yurtiçi Kargo\",\n",
    "    \"Vatan Kargo\",\n",
    "    \"İyi Kargo\",\n",
    "    \"KargoTürk\",\n",
    "    \"Git Kargo\",\n",
    "    \"AyKargo\",\n",
    "    \"Hepsijet\",\n",
    "    \"aramex\",\n",
    "    \"Kolay Gelsin\",\n",
    "    \"Kargomsende\",\n",
    "    \"Jetizz\",\n",
    "    \"KargoIst\",\n",
    "    \"AliExpress\",\n",
    "    \"TNT Kargo\",\n",
    "    \"Inter Global Kargo\",\n",
    "    \"DHL\",\n",
    "    \"Sendeo Kargo\",\n",
    "    \"Gkn Kargo\",\n",
    "    \"trendyol express\",\n",
    "    \"hepsiburada\",\n",
    "    \"PttAVM kargo\",\n",
    "    \"n11 kargo\"\n",
    "]"
   ]
  },
  {
   "cell_type": "code",
   "execution_count": null,
   "metadata": {},
   "outputs": [],
   "source": [
    "turkey_provinces = [\n",
    "    \"Adana\",\n",
    "    \"Adıyaman\",\n",
    "    \"Afyonkarahisar\",\n",
    "    \"Ağrı\",\n",
    "    \"Aksaray\",\n",
    "    \"Amasya\",\n",
    "    \"Ankara\",\n",
    "    \"Antalya\",\n",
    "    \"Ardahan\",\n",
    "    \"Artvin\",\n",
    "    \"Aydın\",\n",
    "    \"Balıkesir\",\n",
    "    \"Bartın\",\n",
    "    \"Batman\",\n",
    "    \"Bayburt\",\n",
    "    \"Bilecik\",\n",
    "    \"Bingöl\",\n",
    "    \"Bitlis\",\n",
    "    \"Bolu\",\n",
    "    \"Burdur\",\n",
    "    \"Bursa\",\n",
    "    \"Çanakkale\",\n",
    "    \"Çankırı\",\n",
    "    \"Çorum\",\n",
    "    \"Denizli\",\n",
    "    \"Diyarbakır\",\n",
    "    \"Düzce\",\n",
    "    \"Edirne\",\n",
    "    \"Elazığ\",\n",
    "    \"Erzincan\",\n",
    "    \"Erzurum\",\n",
    "    \"Eskişehir\",\n",
    "    \"Gaziantep\",\n",
    "    \"Giresun\",\n",
    "    \"Gümüşhane\",\n",
    "    \"Hakkari\",\n",
    "    \"Hatay\",\n",
    "    \"Iğdır\",\n",
    "    \"Isparta\",\n",
    "    \"İstanbul\",\n",
    "    \"İzmir\",\n",
    "    \"Kahramanmaraş\",\n",
    "    \"Karabük\",\n",
    "    \"Karaman\",\n",
    "    \"Kars\",\n",
    "    \"Kastamonu\",\n",
    "    \"Kayseri\",\n",
    "    \"Kilis\",\n",
    "    \"Kırıkkale\",\n",
    "    \"Kırklareli\",\n",
    "    \"Kırşehir\",\n",
    "    \"Kocaeli\",\n",
    "    \"Konya\",\n",
    "    \"Kütahya\",\n",
    "    \"Malatya\",\n",
    "    \"Manisa\",\n",
    "    \"Mardin\",\n",
    "    \"Mersin\",\n",
    "    \"Muğla\",\n",
    "    \"Muş\",\n",
    "    \"Nevşehir\",\n",
    "    \"Niğde\",\n",
    "    \"Ordu\",\n",
    "    \"Osmaniye\",\n",
    "    \"Rize\",\n",
    "    \"Sakarya\",\n",
    "    \"Samsun\",\n",
    "    \"Siirt\",\n",
    "    \"Sinop\",\n",
    "    \"Sivas\",\n",
    "    \"Şanlıurfa\",\n",
    "    \"Şırnak\",\n",
    "    \"Tekirdağ\",\n",
    "    \"Tokat\",\n",
    "    \"Trabzon\",\n",
    "    \"Tunceli\",\n",
    "    \"Uşak\",\n",
    "    \"Van\",\n",
    "    \"Yalova\",\n",
    "    \"Yozgat\",\n",
    "    \"Zonguldak\"\n",
    "]"
   ]
  },
  {
   "cell_type": "code",
   "execution_count": null,
   "metadata": {},
   "outputs": [],
   "source": [
    "import os\n",
    "from dotenv import  load_dotenv\n",
    "\n",
    "load_dotenv()\n",
    "\n",
    "GOOGLE_API_KEY = os.getenv(\"GOOGLE_API_KEY\")"
   ]
  },
  {
   "cell_type": "code",
   "execution_count": null,
   "metadata": {},
   "outputs": [],
   "source": [
    "import requests\n",
    "\n",
    "URL = f\"https://places.googleapis.com/v1/places:searchText\"\n",
    "\n",
    "headers = {\n",
    "    \"Content-Type\": \"application/json\",\n",
    "    \"X-Goog-Api-Key\": GOOGLE_API_KEY,\n",
    "    \"X-Goog-FieldMask\": \"places.displayName,places.formattedAddress,places.location\"\n",
    "}\n",
    "\n",
    "body = {}"
   ]
  },
  {
   "cell_type": "code",
   "execution_count": null,
   "metadata": {},
   "outputs": [],
   "source": [
    "body[\"textQuery\"] = \"PTT Kargo, Ankara\"\n",
    "\n",
    "response = requests.post(url=URL, headers=headers, json=body)"
   ]
  },
  {
   "cell_type": "code",
   "execution_count": null,
   "metadata": {},
   "outputs": [],
   "source": [
    "response.status_code"
   ]
  },
  {
   "cell_type": "code",
   "execution_count": null,
   "metadata": {},
   "outputs": [],
   "source": [
    "import pandas as pd\n",
    "\n",
    "df = pd.DataFrame(columns=[\"Name\", \"Province\", \"Service\", \"Address\", \"Location\"])"
   ]
  },
  {
   "cell_type": "code",
   "execution_count": null,
   "metadata": {},
   "outputs": [],
   "source": [
    "errors = []\n",
    "\n",
    "for service in cargo_services:\n",
    "    for province in turkey_provinces:\n",
    "        body[\"textQuery\"] = f\"{service}, {province}\"\n",
    "        response = requests.post(url=URL, headers=headers, json=body)\n",
    "        if response.status_code != 200:\n",
    "            error = (service, province, response.status_code)\n",
    "            print(\"Error: \",error)\n",
    "            errors.append(error)\n",
    "            continue\n",
    "        places = response.json().get(\"places\", [])\n",
    "        if not places:\n",
    "            error = (service, province, \"No places\")\n",
    "            print(\"Error: \",error)\n",
    "            errors.append(error)\n",
    "        for place in places:\n",
    "            df = df.append({\n",
    "                \"Name\": place[\"displayName\"][\"text\"], \n",
    "                \"Province\": province, \n",
    "                \"Service\": service, \n",
    "                \"Address\": place['formattedAddress'], \n",
    "                \"Location\": f\"{place['location']['latitude']}, {place['location']['longitude']}\"\n",
    "            }, ignore_index=True)"
   ]
  },
  {
   "cell_type": "code",
   "execution_count": null,
   "metadata": {},
   "outputs": [],
   "source": [
    "df"
   ]
  },
  {
   "cell_type": "code",
   "execution_count": null,
   "metadata": {},
   "outputs": [],
   "source": [
    "errors"
   ]
  },
  {
   "cell_type": "code",
   "execution_count": null,
   "metadata": {},
   "outputs": [],
   "source": [
    "df.to_csv(\"cargo_service_locations.csv\")"
   ]
  }
 ],
 "metadata": {
  "kernelspec": {
   "display_name": "Python 3",
   "language": "python",
   "name": "python3"
  },
  "language_info": {
   "codemirror_mode": {
    "name": "ipython",
    "version": 3
   },
   "file_extension": ".py",
   "mimetype": "text/x-python",
   "name": "python",
   "nbconvert_exporter": "python",
   "pygments_lexer": "ipython3",
   "version": "3.10.4"
  }
 },
 "nbformat": 4,
 "nbformat_minor": 2
}
