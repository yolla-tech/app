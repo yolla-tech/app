{
 "cells": [
  {
   "cell_type": "code",
   "execution_count": 1,
   "metadata": {},
   "outputs": [],
   "source": [
    "import requests\n",
    "from urllib.parse import urljoin\n",
    "from bs4 import BeautifulSoup\n"
   ]
  },
  {
   "cell_type": "code",
   "execution_count": 2,
   "metadata": {},
   "outputs": [],
   "source": [
    "tracking_number = \"4460068108558\""
   ]
  },
  {
   "cell_type": "code",
   "execution_count": 11,
   "metadata": {},
   "outputs": [],
   "source": [
    "session = requests.Session()\n",
    "\n",
    "# Construct the tracking page URL\n",
    "base_url = 'https://kargomnerede.com.tr/'\n",
    "tracking_url = urljoin(base_url, f'tracking/{tracking_number}')\n",
    "\n",
    "# Prepare headers to mimic a real browser\n",
    "headers = {\n",
    "    'User-Agent': 'Mozilla/5.0 (Windows NT 10.0; Win64; x64) AppleWebKit/537.36' \\\n",
    "                ' (KHTML, like Gecko) Chrome/96.0.4664.93 Safari/537.36',\n",
    "    'Referer': base_url,\n",
    "}\n",
    "\n",
    "# Send GET request to the tracking page\n",
    "response = session.get(tracking_url, headers=headers)\n",
    "if response.status_code != 200:\n",
    "    print('Error fetching tracking page:', response.status_code)\n",
    "\n",
    "# Parse the response HTML with BeautifulSoup\n"
   ]
  },
  {
   "cell_type": "code",
   "execution_count": 12,
   "metadata": {},
   "outputs": [],
   "source": [
    "soup = BeautifulSoup(response.text, 'html.parser')\n",
    "\n"
   ]
  },
  {
   "cell_type": "code",
   "execution_count": 14,
   "metadata": {},
   "outputs": [
    {
     "data": {
      "text/plain": [
       "['html',\n",
       " <html lang=\"tr\"><head><meta charset=\"utf-8\"/><meta content=\"summary_large_image\" name=\"twitter:card\"/><meta content=\"@kargomnerede\" name=\"twitter:site\"/><meta content=\"@kargomnerede\" name=\"twitter:creator\"/><meta content=\"https://kargomnerede.com.tr\" property=\"og:url\"/><meta content=\"website\" property=\"og:type\"/><meta content=\"Kargom Nerede | Hepsi Bir Arada Kargo Takip\" property=\"og:site_name\"/><meta content=\"text/html;charset=utf-8\" http-equiv=\"content-type\"/><meta content=\"width=device-width, initial-scale=1\" name=\"viewport\"/><meta content=\"kargom nerede, kargo sorgula, kargo takip, mng kargo takip, sürat kargo takip, aras kargo takip, ptt kargo takip, aliexpress kargo takip, ups kargo takip, jetizz kargo, kargoist, fedex, dhl, kargo, kurye, lojistik, uçak kargo, günaydın kargo, kapıda ödemeli kargo, taşımacılık, en yakın şube, kargo şubeleri, kargo telefon, kargo ücretleri, tahsilatlı kargo, hızlı kurye, kargo takip, acil kargo, kargo hesaplama, kargo gönderi, kargo fiyatı, erken teslim, kargo takip sistemi.\" name=\"keywords\"/><meta content=\"@kargomnerede\" name=\"twitter:site\"/><meta content=\"https://kargomnerede.com.tr/favicon/android-icon-192x192.png\" name=\"twitter:image\"/><meta content=\"@kargomnerede\" name=\"twitter:creator\"/><meta content=\"https://kargomnerede.com.tr/favicon/android-icon-192x192.png\" property=\"og:image:secure_url\"/><meta content=\"default-src 'self' 'unsafe-eval' data: blob: filesystem: ws: gap: cdvfile: https://ssl.gstatic.com *; style-src * 'unsafe-inline'; script-src * 'unsafe-inline' 'unsafe-eval'; img-src * data: 'unsafe-inline'; connect-src * 'unsafe-inline'; child-src *; media-src *;\" http-equiv=\"content-security-policy\"/><meta content=\"kargomnerede.com.tr\" name=\"Author\"/><meta content=\"kargomnerede.com.tr\" name=\"Publisher\"/><meta content=\"website\" property=\"og:type\"/><meta content=\"#FB9A00\" name=\"msapplication-navbutton-color\"/><meta content=\"#FB9A00\" name=\"apple-mobile-web-app-status-bar-style\"/><meta content=\"kargomnerede ver:5.0.1 stt:1,57;\" name=\"generator\"/><meta content=\"#F4B600\" name=\"msapplication-TileColor\"/><meta content=\"/favicon/ms-icon-144x144.png\" name=\"msapplication-TileImage\"/><meta content=\"#F4B600\" name=\"theme-color\"/><meta content=\"document\" name=\"resource-type\"/><meta content=\"all\" name=\"audience\"/><meta content=\"general\" name=\"rating\"/><meta content=\"all\" name=\"robots\"/><meta content=\"index, follow\" name=\"googlebot\"/><meta content=\"index,follow\" name=\"GoogleRobot\"/><meta content=\"follow, all\" name=\"Googlebot-Image\"/><meta content=\"tr_TR\" property=\"og:locale\"/><link href=\"https://kargomnerede.com.tr/favicon/apple-icon-57x57.png\" rel=\"apple-touch-icon\" sizes=\"57x57\"/><link href=\"https://kargomnerede.com.tr/favicon/apple-icon-60x60.png\" rel=\"apple-touch-icon\" sizes=\"60x60\"/><link href=\"https://kargomnerede.com.tr/favicon/apple-icon-72x72.png\" rel=\"apple-touch-icon\" sizes=\"72x72\"/><link href=\"https://kargomnerede.com.tr/favicon/apple-icon-76x76.png\" rel=\"apple-touch-icon\" sizes=\"76x76\"/><link href=\"https://kargomnerede.com.tr/favicon/apple-icon-114x114.png\" rel=\"apple-touch-icon\" sizes=\"114x114\"/><link href=\"https://kargomnerede.com.tr/favicon/apple-icon-120x120.png\" rel=\"apple-touch-icon\" sizes=\"120x120\"/><link href=\"https://kargomnerede.com.tr/favicon/apple-icon-144x144.png\" rel=\"apple-touch-icon\" sizes=\"144x144\"/><link href=\"https://kargomnerede.com.tr/favicon/apple-icon-152x152.png\" rel=\"apple-touch-icon\" sizes=\"152x152\"/><link href=\"https://kargomnerede.com.tr/favicon/apple-icon-180x180.png\" rel=\"apple-touch-icon\" sizes=\"180x180\"/><link href=\"https://kargomnerede.com.tr/favicon/android-icon-192x192.png\" rel=\"icon\" sizes=\"192x192\" type=\"image/png\"/><link href=\"https://kargomnerede.com.tr/favicon/favicon-32x32.png\" rel=\"icon\" sizes=\"32x32\" type=\"image/png\"/><link href=\"https://kargomnerede.com.tr/favicon/favicon-96x96.png\" rel=\"icon\" sizes=\"96x96\" type=\"image/png\"/><link href=\"https://kargomnerede.com.tr/favicon/favicon-16x16.png\" rel=\"icon\" sizes=\"16x16\" type=\"image/png\"/><link href=\"https://kargomnerede.com.tr/favicon/manifest.json\" rel=\"manifest\"/><link href=\"https://kargomnerede.com.tr/favicon.ico\" rel=\"icon\"/><title>Kargo Hareketleri - Kargom Nerede | Hepsi Bir Arada Kargo Takip</title><meta content=\"index,follow\" name=\"robots\"/><meta content=\"Kargolarınızı takip etmenin en kolay ve hızlı yolu.\" name=\"description\"/><meta content=\"Kargo Hareketleri - Kargom Nerede\" property=\"og:title\"/><meta content=\"Kargolarınızı takip etmenin en kolay ve hızlı yolu.\" property=\"og:description\"/><meta content=\"52\" name=\"next-head-count\"/><link as=\"font\" crossorigin=\"anonymous\" data-next-font=\"size-adjust\" href=\"/_next/static/media/2b3f1035ed87a788-s.p.woff2\" rel=\"preload\" type=\"font/woff2\"/><link as=\"style\" href=\"/_next/static/css/c88c497952ec01a5.css\" rel=\"preload\"/><link data-n-g=\"\" href=\"/_next/static/css/c88c497952ec01a5.css\" rel=\"stylesheet\"/><noscript data-n-css=\"\"></noscript><script defer=\"\" nomodule=\"\" src=\"/_next/static/chunks/polyfills-42372ed130431b0a.js\"></script><script defer=\"\" src=\"/_next/static/chunks/webpack-cade3c0654b9fc17.js\"></script><script defer=\"\" src=\"/_next/static/chunks/framework-64ad27b21261a9ce.js\"></script><script defer=\"\" src=\"/_next/static/chunks/main-633cd9df0910d1c2.js\"></script><script defer=\"\" src=\"/_next/static/chunks/pages/_app-b9d6d05082d89aa1.js\"></script><script defer=\"\" src=\"/_next/static/chunks/884-25bf5bdf1317973a.js\"></script><script defer=\"\" src=\"/_next/static/chunks/pages/tracking/%5BtrackingNumber%5D-da674c47d15c1d64.js\"></script><script defer=\"\" src=\"/_next/static/R9VSetya2CynQsvgDeCTe/_buildManifest.js\"></script><script defer=\"\" src=\"/_next/static/R9VSetya2CynQsvgDeCTe/_ssgManifest.js\"></script><style id=\"__jsx-2310874810\">:root{--font-plus-jakarta-sans:'__Plus_Jakarta_Sans_1d123b', '__Plus_Jakarta_Sans_Fallback_1d123b'}</style></head><body><div id=\"__next\"><header class=\"relative z-50 py-5\"><div class=\"px-[5%]\"><div class=\"relative flex items-center justify-between\"><div class=\"max-w-[140px] sm:max-w-[214px]\"><a class=\"inline-flex items-center gap-2 lg:gap-3\" href=\"https://kargomnerede.com.tr/\"><img alt=\"Kargomnerede Logo\" class=\"w-8 lg:w-14\" data-nimg=\"1\" decoding=\"async\" height=\"434\" loading=\"lazy\" src=\"/_next/image?url=%2Fimgs%2Fsite-logo-icon.png&amp;w=1080&amp;q=75\" srcset=\"/_next/image?url=%2Fimgs%2Fsite-logo-icon.png&amp;w=640&amp;q=75 1x, /_next/image?url=%2Fimgs%2Fsite-logo-icon.png&amp;w=1080&amp;q=75 2x\" style=\"color:transparent\" width=\"450\"/><span class=\"text-lg font-semibold text-[#616574] lg:text-xl\"></span></a></div><div class=\"flex items-start gap-x-5\"><div class=\"flex items-center gap-x-5\"><div class=\"flex items-center gap-x-2.5 max-md:hidden\"><a href=\"https://apps.shopify.com/kargom-nerede?locale=tr\" target=\"_blank\"><button class=\"inline-flex items-center justify-center gap-x-2.5 whitespace-nowrap rounded-lg font-medium transition-colors focus-visible:outline-none focus-visible:ring-1 focus-visible:ring-app-black/50 disabled:pointer-events-none disabled:opacity-50 border border-accent bg-white text-accent hover:border-accent/80 h-12 px-6\">Shopify App</button></a></div></div><div class=\"md:hidden\"><button aria-controls=\"radix-:R576:\" aria-expanded=\"false\" aria-haspopup=\"dialog\" aria-label=\"Menu Navigation Button\" data-state=\"closed\" type=\"button\"><svg class=\"lucide lucide-menu\" fill=\"none\" height=\"24\" stroke=\"currentColor\" stroke-linecap=\"round\" stroke-linejoin=\"round\" stroke-width=\"2\" viewbox=\"0 0 24 24\" width=\"24\" xmlns=\"http://www.w3.org/2000/svg\"><line x1=\"4\" x2=\"20\" y1=\"12\" y2=\"12\"></line><line x1=\"4\" x2=\"20\" y1=\"6\" y2=\"6\"></line><line x1=\"4\" x2=\"20\" y1=\"18\" y2=\"18\"></line></svg></button></div></div><div class=\"absolute left-1/2 top-1/2 flex -translate-y-1/2 translate-x-[-63%] items-center max-xl:hidden\"></div></div></div></header><ins class=\"adsbygoogle\" data-ad-client=\"ca-pub-2193954677379063\" data-ad-format=\"auto\" data-ad-slot=\"3994806514\" data-full-width-responsive=\"true\" style=\"display:block;text-align:center\"></ins><div class=\"mt-2 md:mt-4 lg:mt-[20px]\"><div class=\"container\"><div class=\"text-center text-xl font-bold\">Kargonuzu takip etmeye başlayın</div><div class=\"mx-auto mt-5 max-w-[830px]\"><form class=\"relative w-full overflow-hidden rounded-full shadow-[2px_4px_32px_rgba(0,0,0,0.08)]\"><input class=\"w-full px-5 py-4 pr-[74px] outline-none md:px-6 md:py-5\" placeholder=\"Takip numaranızı giriniz\" type=\"text\" value=\"\"/><button class=\"__c_all absolute right-2.5 top-1/2 aspect-square h-[calc(100%-18px)] -translate-y-1/2 rounded-full bg-accent duration-200 hover:bg-accent/80\"><svg class=\"w-6 text-white\" fill=\"none\" viewbox=\"0 0 24 24\" xmlns=\"http://www.w3.org/2000/svg\"><path d=\"M21 21L16.65 16.65M11 6C13.7614 6 16 8.23858 16 11M19 11C19 15.4183 15.4183 19 11 19C6.58172 19 3 15.4183 3 11C3 6.58172 6.58172 3 11 3C15.4183 3 19 6.58172 19 11Z\" stroke=\"currentColor\" stroke-linecap=\"round\" stroke-linejoin=\"round\" stroke-width=\"1.5\"></path></svg></button></form></div></div></div><section class=\"mt-4\"><div class=\"md:container\"><ins class=\"adsbygoogle\" data-ad-client=\"ca-pub-2193954677379063\" data-ad-slot=\"6802132672\" style=\"display:inline-block;width:100%;height:50px;margin-top:16px;margin-bottom:16px\"></ins><div class=\"rounded-[20px] bg-white p-5 shadow-[1px_6px_34px_rgba(0,0,0,0.06)] md:px-6 md:py-8\"><div class=\"flex items-center justify-center px-5 py-20 text-center\"><p class=\"text-lg font-medium opacity-80 text-red-500\">Sorguladığınız takip numarasına ait kargo bulunamadı. Lütfen tekrardan kontrol ediniz.</p></div></div><ins class=\"adsbygoogle\" data-ad-client=\"ca-pub-2193954677379063\" data-ad-slot=\"2118713836\" style=\"display:inline-block;width:100%;height:120px;margin-top:16px;margin-bottom:16px\"></ins></div></section><section class=\"mt-40 lg:mt-[186px]\"><div class=\"container\"><div class=\"relative isolate items-center justify-end rounded-t-[20px] bg-[#FCA301] px-5 pb-6 lg:flex lg:overflow-x-clip lg:rounded-[20px] lg:px-8 lg:pb-[67px] lg:pt-[97px]\"><img alt=\"app-mockup\" class=\"mx-auto w-[313px] translate-y-[-85px] lg:hidden\" data-nimg=\"1\" decoding=\"async\" height=\"1082\" loading=\"lazy\" src=\"/_next/image?url=%2Fimgs%2Fapp-mockup.png&amp;w=1920&amp;q=75\" srcset=\"/_next/image?url=%2Fimgs%2Fapp-mockup.png&amp;w=750&amp;q=75 1x, /_next/image?url=%2Fimgs%2Fapp-mockup.png&amp;w=1920&amp;q=75 2x\" style=\"color:transparent\" width=\"692\"/><div class=\"max-w-[576px] max-lg:mt-[-60px]\"><h2 class=\"text-3xl font-semibold text-white md:text-4xl lg:text-[48px]/[60px]\">Kargonu Mobilden Takip Et!</h2><p class=\"my-6 text-lg text-white md:mb-8 lg:mb-12 lg:text-xl/[30px]\">Hemen App Store veya Play Store'dan telefonuna uygulama yükle kargolarını kaydet, anlık bildirimler al.</p><div class=\"flex items-center gap-x-3\"><a href=\"https://apps.apple.com/tr/app/kargo-takip/id1463853764\" target=\"_blank\"><img alt=\"Play Store\" class=\"h-11 sm:max-w-[148px]\" data-nimg=\"1\" decoding=\"async\" height=\"88\" loading=\"lazy\" src=\"/_next/image?url=%2Fimgs%2Fapple-app-store-badge.png&amp;w=640&amp;q=75\" srcset=\"/_next/image?url=%2Fimgs%2Fapple-app-store-badge.png&amp;w=384&amp;q=75 1x, /_next/image?url=%2Fimgs%2Fapple-app-store-badge.png&amp;w=640&amp;q=75 2x\" style=\"color:transparent\" width=\"297\"/></a><a href=\"https://play.google.com/store/apps/details?id=com.kargomnerde.kargomnerde\" target=\"_blank\"><img alt=\"App Store\" class=\"h-11 sm:max-w-[148px]\" data-nimg=\"1\" decoding=\"async\" height=\"88\" loading=\"lazy\" src=\"/_next/image?url=%2Fimgs%2Fgoogle-play-store-badge.png&amp;w=640&amp;q=75\" srcset=\"/_next/image?url=%2Fimgs%2Fgoogle-play-store-badge.png&amp;w=384&amp;q=75 1x, /_next/image?url=%2Fimgs%2Fgoogle-play-store-badge.png&amp;w=640&amp;q=75 2x\" style=\"color:transparent\" width=\"297\"/></a></div></div><img alt=\"app-mockup-illustration\" class=\"absolute bottom-0 left-0 w-[696px] -translate-x-8 max-lg:hidden\" data-nimg=\"1\" decoding=\"async\" height=\"1192\" loading=\"lazy\" src=\"/_next/image?url=%2Fimgs%2Fapp-mockup-illustration.png&amp;w=3840&amp;q=75\" srcset=\"/_next/image?url=%2Fimgs%2Fapp-mockup-illustration.png&amp;w=1920&amp;q=75 1x, /_next/image?url=%2Fimgs%2Fapp-mockup-illustration.png&amp;w=3840&amp;q=75 2x\" style=\"color:transparent\" width=\"1394\"/></div></div></section><footer class=\"mt-16 border-t border-accent pt-10 md:mt-24 md:pt-12 lg:mt-[136px] lg:pt-16\"><div class=\"container\"><div class=\"flex items-start justify-between gap-x-6 pb-[78px] max-md:flex-col max-md:rounded-md max-md:p-5 max-md:shadow-[0px_-2px_24px_rgba(0,0,0,0.15)]\"><div><div class=\"max-w-[140px] sm:max-w-[214px]\"><a class=\"inline-flex items-center gap-2 lg:gap-3\" href=\"https://kargomnerede.com.tr/\"><img alt=\"Kargomnerede Logo\" class=\"w-8 lg:w-14\" data-nimg=\"1\" decoding=\"async\" height=\"434\" loading=\"lazy\" src=\"/_next/image?url=%2Fimgs%2Fsite-logo-icon.png&amp;w=1080&amp;q=75\" srcset=\"/_next/image?url=%2Fimgs%2Fsite-logo-icon.png&amp;w=640&amp;q=75 1x, /_next/image?url=%2Fimgs%2Fsite-logo-icon.png&amp;w=1080&amp;q=75 2x\" style=\"color:transparent\" width=\"450\"/><span class=\"text-lg font-semibold text-[#616574] lg:text-xl\"></span></a></div><p class=\"mt-3.5 max-w-[738px] leading-6 text-[#475467]\">Tüm kargolarınızı tek bir yerden takip edin, anlık bildirimler alın.</p></div><div class=\"flex items-center gap-x-4 gap-y-3 max-md:mt-5 max-md:w-full max-md:flex-col\"><input class=\"w-full rounded-lg border border-[#D0D5DD] px-3.5 py-2.5 shadow-[0px_1px_2px_rgba(0,0,0,0.05)] outline-none md:w-[269px]\" placeholder=\"Email adresinizi giriniz\" type=\"text\"/><button class=\"inline-flex items-center justify-center gap-x-2.5 whitespace-nowrap rounded-lg font-medium transition-colors focus-visible:outline-none focus-visible:ring-1 focus-visible:ring-app-black/50 disabled:pointer-events-none disabled:opacity-50 bg-accent text-white hover:bg-accent/90 h-12 px-6 maxm-md:w-full\">Abone Ol</button></div></div><div class=\"border-y border-[#EAECF0] py-9 md:px-8 md:py-10 lg:py-11\"><div class=\"grid grid-cols-2 gap-x-8 gap-y-6 md:grid-cols-3 lg:grid-cols-5\"></div></div><div class=\"flex justify-between gap-y-5 py-6 max-md:flex-col md:items-center\"><p class=\"inline-block leading-6 text-[#667085] duration-200 hover:opacity-80 max-md:hidden\">Tüm hakları saklıdır.</p><div class=\"flex gap-x-8 gap-y-3.5 max-md:flex-col md:items-center\"><a class=\"inline-block leading-6 text-[#667085] duration-200 hover:opacity-80\" href=\"https://kargomnerede.com.tr/privacy\">Gizlilik Politikası</a><a class=\"inline-block leading-6 text-[#667085] duration-200 hover:opacity-80\" href=\"https://kargomnerede.com.tr/user-agreement\">Kullanıcı Sözleşmesi</a><a class=\"inline-block leading-6 text-[#667085] duration-200 hover:opacity-80\" href=\"https://kargomnerede.com.tr/cookies\">Çerezler</a><a class=\"inline-block leading-6 text-[#667085] duration-200 hover:opacity-80\" href=\"https://kargomnerede.com.tr/google-limited-use-requirements\">Google'ın Sınırlı Kullanım Gereksinimleri</a></div><div class=\"flex items-center gap-x-6 text-[#98A2B3]\"><a aria-label=\"Kargom Nerede X Account\" class=\"inline-block duration-200 hover:opacity-80\" href=\"https://x.com/kargomnerede\" target=\"_blank\"><svg class=\"lucide lucide-twitter\" fill=\"none\" height=\"24\" stroke=\"currentColor\" stroke-linecap=\"round\" stroke-linejoin=\"round\" stroke-width=\"2\" viewbox=\"0 0 24 24\" width=\"24\" xmlns=\"http://www.w3.org/2000/svg\"><path d=\"M22 4s-.7 2.1-2 3.4c1.6 10-9.4 17.3-18 11.6 2.2.1 4.4-.6 6-2C3 15.5.5 9.6 3 5c2.2 2.6 5.6 4.1 9 4-.9-4.2 4-6.6 7-3.8 1.1 0 3-1.2 3-1.2z\"></path></svg></a><a aria-label=\"Kargom Nerede Instagram Account\" class=\"inline-block duration-200 hover:opacity-80\" href=\"https://www.instagram.com/kargomnerede/\" target=\"_blank\"><svg class=\"lucide lucide-instagram\" fill=\"none\" height=\"24\" stroke=\"currentColor\" stroke-linecap=\"round\" stroke-linejoin=\"round\" stroke-width=\"2\" viewbox=\"0 0 24 24\" width=\"24\" xmlns=\"http://www.w3.org/2000/svg\"><rect height=\"20\" rx=\"5\" ry=\"5\" width=\"20\" x=\"2\" y=\"2\"></rect><path d=\"M16 11.37A4 4 0 1 1 12.63 8 4 4 0 0 1 16 11.37z\"></path><line x1=\"17.5\" x2=\"17.51\" y1=\"6.5\" y2=\"6.5\"></line></svg></a></div><p class=\"text-start leading-6 text-[#667085] md:hidden\">All rights reserved. By Kargomnerede</p></div></div></footer></div><script id=\"__NEXT_DATA__\" type=\"application/json\">{\"props\":{\"pageProps\":{}},\"page\":\"/tracking/[trackingNumber]\",\"query\":{},\"buildId\":\"R9VSetya2CynQsvgDeCTe\",\"nextExport\":true,\"autoExport\":true,\"isFallback\":false,\"locale\":\"tr\",\"locales\":[\"tr\"],\"defaultLocale\":\"tr\",\"domainLocales\":[{\"domain\":\"kargomnerede.com.tr\",\"http\":true,\"defaultLocale\":\"tr\",\"locales\":[\"tr\"]}],\"scriptLoader\":[]}</script></body></html>]"
      ]
     },
     "execution_count": 14,
     "metadata": {},
     "output_type": "execute_result"
    }
   ],
   "source": [
    "soup.contents"
   ]
  },
  {
   "cell_type": "code",
   "execution_count": 13,
   "metadata": {},
   "outputs": [
    {
     "data": {
      "text/plain": [
       "[<div class=\"rounded-[20px] bg-white p-5 shadow-[1px_6px_34px_rgba(0,0,0,0.06)] md:px-6 md:py-8\"><div class=\"flex items-center justify-center px-5 py-20 text-center\"><p class=\"text-lg font-medium opacity-80 text-red-500\">Sorguladığınız takip numarasına ait kargo bulunamadı. Lütfen tekrardan kontrol ediniz.</p></div></div>]"
      ]
     },
     "execution_count": 13,
     "metadata": {},
     "output_type": "execute_result"
    }
   ],
   "source": [
    "soup.find_all(\"div\", {\"class\": \"rounded-[20px]\"})"
   ]
  }
 ],
 "metadata": {
  "kernelspec": {
   "display_name": ".venv",
   "language": "python",
   "name": "python3"
  },
  "language_info": {
   "codemirror_mode": {
    "name": "ipython",
    "version": 3
   },
   "file_extension": ".py",
   "mimetype": "text/x-python",
   "name": "python",
   "nbconvert_exporter": "python",
   "pygments_lexer": "ipython3",
   "version": "3.10.4"
  }
 },
 "nbformat": 4,
 "nbformat_minor": 2
}
